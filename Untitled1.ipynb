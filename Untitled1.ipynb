{
  "nbformat": 4,
  "nbformat_minor": 0,
  "metadata": {
    "colab": {
      "provenance": [],
      "authorship_tag": "ABX9TyNf9XK1ItYjHrxn3L/iAbnJ",
      "include_colab_link": true
    },
    "kernelspec": {
      "name": "python3",
      "display_name": "Python 3"
    },
    "language_info": {
      "name": "python"
    }
  },
  "cells": [
    {
      "cell_type": "markdown",
      "metadata": {
        "id": "view-in-github",
        "colab_type": "text"
      },
      "source": [
        "<a href=\"https://colab.research.google.com/github/PotOfCode/Eduflex/blob/main/Untitled1.ipynb\" target=\"_parent\"><img src=\"https://colab.research.google.com/assets/colab-badge.svg\" alt=\"Open In Colab\"/></a>"
      ]
    },
    {
      "cell_type": "code",
      "execution_count": 4,
      "metadata": {
        "id": "4KJadSMIYP3-",
        "colab": {
          "base_uri": "https://localhost:8080/"
        },
        "outputId": "09b0ae57-58eb-4270-f924-587a042b3f3e"
      },
      "outputs": [
        {
          "output_type": "stream",
          "name": "stdout",
          "text": [
            "Drive already mounted at /content/drive; to attempt to forcibly remount, call drive.mount(\"/content/drive\", force_remount=True).\n",
            "Archivos en el directorio:\n",
            "DxD\n",
            "Classroom\n",
            "Colab Notebooks\n"
          ]
        }
      ],
      "source": [
        "#miapp.py\n",
        "from google.colab import drive\n",
        "import os\n",
        "\n",
        "# Montar Google Drive\n",
        "drive.mount('/content/drive')\n",
        "\n",
        "# Definir el directorio (cambia 'tu_directorio' por el nombre de tu carpeta)\n",
        "directory = '/content/drive/MyDrive/'\n",
        "\n",
        "# Listar archivos en el directorio\n",
        "def list_files_in_directory(directory):\n",
        "    try:\n",
        "        files = os.listdir(directory)\n",
        "        print(\"Archivos en el directorio:\")\n",
        "        for file in files:\n",
        "            print(file)\n",
        "    except FileNotFoundError:\n",
        "        print(\"Directorio no encontrado.\")\n",
        "\n",
        "# Llamar a la función\n",
        "list_files_in_directory(directory)"
      ]
    }
  ]
}